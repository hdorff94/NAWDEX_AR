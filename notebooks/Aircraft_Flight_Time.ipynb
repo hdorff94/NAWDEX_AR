{
 "cells": [
  {
   "cell_type": "markdown",
   "metadata": {},
   "source": [
    "# Aircraft Flight Time Barplot"
   ]
  },
  {
   "cell_type": "markdown",
   "metadata": {},
   "source": [
    "#### This notebook loops over all synthetic flights and illustrates their length for assumed aircraft performance"
   ]
  },
  {
   "cell_type": "code",
   "execution_count": 1,
   "metadata": {},
   "outputs": [],
   "source": [
    "import os\n",
    "import sys\n",
    "import warnings\n",
    "warnings.filterwarnings(\"ignore\")\n",
    "\n",
    "import numpy as np\n",
    "import pandas as pd\n",
    "import xarray as xr\n",
    "\n",
    "import matplotlib\n",
    "import matplotlib.pyplot as plt\n",
    "import seaborn as sns"
   ]
  },
  {
   "cell_type": "code",
   "execution_count": 2,
   "metadata": {},
   "outputs": [
    {
     "name": "stdout",
     "output_type": "stream",
     "text": [
      "C:\\Users\\u300737\\Desktop\\PhD_UHH_WIMI\\my_GIT\\Synthetic_Airborne_Arctic_ARs\\notebooks\n",
      "C:\\Users\\u300737\\Desktop\\PhD_UHH_WIMI/my_GIT/Synthetic_Airborne_Arctic_ARs/\n"
     ]
    }
   ],
   "source": [
    "# Change path to working script directory\n",
    "current_path=os.getcwd()\n",
    "print(current_path)\n",
    "major_path = os.path.abspath(\"../../../\")\n",
    "major_airborne_data_path=current_path+\"/../../../Work/GIT_Repository/\"\n",
    "working_path=major_path+\"/my_GIT/Synthetic_Airborne_Arctic_ARs/\"\n",
    "overall_paper_path=major_path+\"/Work/Synthetic_AR_Paper/\"\n",
    "src_path=working_path+\"/src/\"\n",
    "cfg_path=working_path+\"/config/\"\n",
    "print(working_path)\n",
    "os.chdir(working_path)\n",
    "sys.path.insert(1, os.path.join(sys.path[0], working_path))\n",
    "sys.path.insert(2,src_path)\n",
    "sys.path.insert(3,cfg_path)\n"
   ]
  },
  {
   "cell_type": "code",
   "execution_count": 3,
   "metadata": {},
   "outputs": [],
   "source": [
    "import flightcampaign as Campaign\n",
    "\n",
    "import flight_track_creator\n",
    "import data_config"
   ]
  },
  {
   "cell_type": "code",
   "execution_count": 12,
   "metadata": {},
   "outputs": [
    {
     "name": "stdout",
     "output_type": "stream",
     "text": [
      "C:\\Users\\u300737\\Desktop\\PhD_UHH_WIMI\\my_GIT\\Synthetic_Airborne_Arctic_ARs\\notebooks/../../../Work/GIT_Repository//data_config_file.ini\n",
      "Config-file C:\\Users\\u300737\\Desktop\\PhD_UHH_WIMI\\my_GIT\\Synthetic_Airborne_Arctic_ARs\\notebooks/../../../Work/GIT_Repository//data_config_file.ini.ini  already exists\n"
     ]
    }
   ],
   "source": [
    "# Config File\n",
    "config_file=data_config.load_config_file(major_airborne_data_path,\"data_config_file\")\n",
    "\n",
    "analyse_all_flights=True\n",
    "\n",
    "#\n",
    "flight_dates={\"North_Atlantic_Run\":\n",
    "              {\"SRF02\":\"20180224\",\n",
    "               \"SRF04\":\"20190319\",#},\n",
    "               \"SRF07\":\"20200416\",#},\n",
    "               \"SRF08\":\"20200419\"\n",
    "              },\n",
    "              \"Second_Synthetic_Study\":\n",
    "              {\"SRF02\":\"20110317\",\n",
    "               \"SRF03\":\"20110423\",\n",
    "               \"SRF08\":\"20150314\",\n",
    "               \"SRF09\":\"20160311\",\n",
    "               \"SRF12\":\"20180225\"\n",
    "               }}\n",
    "flight_tracks_dict={}\n",
    "campaigns=[*flight_dates.keys()]\n",
    "shifted_lat=0\n",
    "shifted_lon=0\n",
    "ar_of_day=\"AR_internal\"\n",
    "dates_as_ticklabels=False"
   ]
  },
  {
   "cell_type": "code",
   "execution_count": 13,
   "metadata": {},
   "outputs": [],
   "source": [
    "campaign=campaigns[0]\n",
    "flight=[*flight_dates[campaign]][0]"
   ]
  },
  {
   "cell_type": "code",
   "execution_count": 14,
   "metadata": {},
   "outputs": [
    {
     "name": "stdout",
     "output_type": "stream",
     "text": [
      "Analyse given flight:  SRF02\n",
      "Overall directory of campaign work is:  C:\\Users\\u300737\\Desktop\\PhD_UHH_WIMI\\Work\\GIT_Repository/NA_February_Run/\n",
      "Entries:  dict_keys(['data']) have added to or changed in the config file\n",
      "Analyse given flight:  SRF04\n",
      "Overall directory of campaign work is:  C:\\Users\\u300737\\Desktop\\PhD_UHH_WIMI\\Work\\GIT_Repository/NA_February_Run/\n",
      "Entries:  dict_keys(['data']) have added to or changed in the config file\n",
      "Analyse given flight:  SRF07\n",
      "Overall directory of campaign work is:  C:\\Users\\u300737\\Desktop\\PhD_UHH_WIMI\\Work\\GIT_Repository/NA_February_Run/\n",
      "Entries:  dict_keys(['data']) have added to or changed in the config file\n",
      "Analyse given flight:  SRF08\n",
      "Overall directory of campaign work is:  C:\\Users\\u300737\\Desktop\\PhD_UHH_WIMI\\Work\\GIT_Repository/NA_February_Run/\n",
      "Entries:  dict_keys(['data']) have added to or changed in the config file\n",
      "Overall directory of campaign work is:  C:\\Users\\u300737\\Desktop\\PhD_UHH_WIMI\\Work\\GIT_Repository/Second_Synthetic_Study/\n",
      "Entries:  dict_keys(['data']) have added to or changed in the config file\n",
      "Overall directory of campaign work is:  C:\\Users\\u300737\\Desktop\\PhD_UHH_WIMI\\Work\\GIT_Repository/Second_Synthetic_Study/\n",
      "Entries:  dict_keys(['data']) have added to or changed in the config file\n",
      "Overall directory of campaign work is:  C:\\Users\\u300737\\Desktop\\PhD_UHH_WIMI\\Work\\GIT_Repository/Second_Synthetic_Study/\n",
      "Entries:  dict_keys(['data']) have added to or changed in the config file\n",
      "Overall directory of campaign work is:  C:\\Users\\u300737\\Desktop\\PhD_UHH_WIMI\\Work\\GIT_Repository/Second_Synthetic_Study/\n",
      "Entries:  dict_keys(['data']) have added to or changed in the config file\n",
      "Overall directory of campaign work is:  C:\\Users\\u300737\\Desktop\\PhD_UHH_WIMI\\Work\\GIT_Repository/Second_Synthetic_Study/\n",
      "Entries:  dict_keys(['data']) have added to or changed in the config file\n"
     ]
    }
   ],
   "source": [
    "for campaign in campaigns:\n",
    "    for flight in flight_dates[campaign]:\n",
    "        if campaign==\"North_Atlantic_Run\":\n",
    "            print(\"Analyse given flight: \",flight)\n",
    "            cmpgn_cls=Campaign.North_Atlantic_February_Run(\n",
    "                    interested_flights=[flight],\n",
    "                        is_flight_campaign=True,\n",
    "                        major_path=config_file[\"Data_Paths\"][\"campaign_path\"],\n",
    "                        aircraft=\"HALO\",instruments=[])\n",
    "        \n",
    "            cmpgn_cls.specify_flights_of_interest(flight)\n",
    "            cmpgn_cls.create_directory(directory_types=[\"data\"])\n",
    "        elif campaign==\"Second_Synthetic_Study\":\n",
    "            cmpgn_cls=Campaign.Second_Synthetic_Study(\n",
    "                    interested_flights=[flight],\n",
    "                        is_flight_campaign=True,\n",
    "                        major_path=config_file[\"Data_Paths\"][\"campaign_path\"],\n",
    "                        aircraft=\"HALO\",instruments=[])\n",
    "        \n",
    "            cmpgn_cls.specify_flights_of_interest(flight)\n",
    "            cmpgn_cls.create_directory(directory_types=[\"data\"])\n",
    "    \n",
    "        if not shifted_lat==0:\n",
    "            ar_of_day=ar_of_day+\"_\"+str(shifted_lat)\n",
    "            track_type=\"shifted\"\n",
    "        else:\n",
    "            track_type=\"internal\"\n",
    "        Tracker=flight_track_creator.Flighttracker(cmpgn_cls,flight,ar_of_day,\n",
    "                          shifted_lat=shifted_lat,\n",
    "                          shifted_lon=shifted_lon,\n",
    "                          track_type=track_type)\n",
    "        aircraft_df,campaign_path=Tracker.load_existing_flight_track()\n",
    "        flight_tracks_dict[flight_dates[campaign][flight]]=aircraft_df\n",
    "sorted_tracks_keys=sorted(flight_tracks_dict.keys())\n",
    "flight_tracks_dict_sorted={}\n",
    "for key in sorted_tracks_keys:\n",
    "    flight_tracks_dict_sorted[key]=flight_tracks_dict[key]"
   ]
  },
  {
   "cell_type": "code",
   "execution_count": 15,
   "metadata": {},
   "outputs": [
    {
     "name": "stdout",
     "output_type": "stream",
     "text": [
      "['AR1', 'AR2', 'AR3', 'AR4', 'AR5', 'AR6', 'AR7', 'AR8', 'AR9']\n"
     ]
    }
   ],
   "source": [
    "if dates_as_ticklabels:\n",
    "    df_index=[*flight_tracks_dict_sorted.keys()]\n",
    "else:\n",
    "    df_index=[\"AR\"+str(int(ar_no)) for ar_no in np.linspace(1,9,9)]\n",
    "print(df_index)\n",
    "track_lengths=pd.DataFrame(data=np.nan,index=df_index,columns=[\"Inflow\",\"Internal\",\"Outflow\"])\n",
    "d=0\n",
    "for flight in flight_tracks_dict_sorted.keys():\n",
    "    loop_aircraft_df=flight_tracks_dict_sorted[flight]\n",
    "    track_length=[loop_aircraft_df[loop_aircraft_df[\"leg_type\"]==\"inflow\"].shape[0]/60,\n",
    "              loop_aircraft_df[loop_aircraft_df[\"leg_type\"]==\"internal\"].shape[0]/60,\n",
    "              loop_aircraft_df[loop_aircraft_df[\"leg_type\"]==\"outflow\"].shape[0]/60]\n",
    "    track_lengths.iloc[d]=track_length\n",
    "    d+=1"
   ]
  },
  {
   "cell_type": "code",
   "execution_count": 16,
   "metadata": {},
   "outputs": [],
   "source": [
    "#track_lengths=track_lengths.sort_index()"
   ]
  },
  {
   "cell_type": "code",
   "execution_count": 17,
   "metadata": {},
   "outputs": [
    {
     "data": {
      "text/html": [
       "<div>\n",
       "<style scoped>\n",
       "    .dataframe tbody tr th:only-of-type {\n",
       "        vertical-align: middle;\n",
       "    }\n",
       "\n",
       "    .dataframe tbody tr th {\n",
       "        vertical-align: top;\n",
       "    }\n",
       "\n",
       "    .dataframe thead th {\n",
       "        text-align: right;\n",
       "    }\n",
       "</style>\n",
       "<table border=\"1\" class=\"dataframe\">\n",
       "  <thead>\n",
       "    <tr style=\"text-align: right;\">\n",
       "      <th></th>\n",
       "      <th>Inflow</th>\n",
       "      <th>Internal</th>\n",
       "      <th>Outflow</th>\n",
       "    </tr>\n",
       "  </thead>\n",
       "  <tbody>\n",
       "    <tr>\n",
       "      <th>AR1</th>\n",
       "      <td>60.016667</td>\n",
       "      <td>66.933333</td>\n",
       "      <td>60.016667</td>\n",
       "    </tr>\n",
       "    <tr>\n",
       "      <th>AR2</th>\n",
       "      <td>52.016667</td>\n",
       "      <td>51.133333</td>\n",
       "      <td>47.016667</td>\n",
       "    </tr>\n",
       "    <tr>\n",
       "      <th>AR3</th>\n",
       "      <td>58.016667</td>\n",
       "      <td>65.300000</td>\n",
       "      <td>53.016667</td>\n",
       "    </tr>\n",
       "    <tr>\n",
       "      <th>AR4</th>\n",
       "      <td>45.016667</td>\n",
       "      <td>52.400000</td>\n",
       "      <td>39.016667</td>\n",
       "    </tr>\n",
       "    <tr>\n",
       "      <th>AR5</th>\n",
       "      <td>50.016667</td>\n",
       "      <td>55.000000</td>\n",
       "      <td>50.016667</td>\n",
       "    </tr>\n",
       "    <tr>\n",
       "      <th>AR6</th>\n",
       "      <td>39.016667</td>\n",
       "      <td>45.583333</td>\n",
       "      <td>39.016667</td>\n",
       "    </tr>\n",
       "    <tr>\n",
       "      <th>AR7</th>\n",
       "      <td>50.016667</td>\n",
       "      <td>48.383333</td>\n",
       "      <td>50.016667</td>\n",
       "    </tr>\n",
       "    <tr>\n",
       "      <th>AR8</th>\n",
       "      <td>45.016667</td>\n",
       "      <td>48.616667</td>\n",
       "      <td>45.016667</td>\n",
       "    </tr>\n",
       "    <tr>\n",
       "      <th>AR9</th>\n",
       "      <td>52.016667</td>\n",
       "      <td>51.650000</td>\n",
       "      <td>52.016667</td>\n",
       "    </tr>\n",
       "  </tbody>\n",
       "</table>\n",
       "</div>"
      ],
      "text/plain": [
       "        Inflow   Internal    Outflow\n",
       "AR1  60.016667  66.933333  60.016667\n",
       "AR2  52.016667  51.133333  47.016667\n",
       "AR3  58.016667  65.300000  53.016667\n",
       "AR4  45.016667  52.400000  39.016667\n",
       "AR5  50.016667  55.000000  50.016667\n",
       "AR6  39.016667  45.583333  39.016667\n",
       "AR7  50.016667  48.383333  50.016667\n",
       "AR8  45.016667  48.616667  45.016667\n",
       "AR9  52.016667  51.650000  52.016667"
      ]
     },
     "execution_count": 17,
     "metadata": {},
     "output_type": "execute_result"
    }
   ],
   "source": [
    "track_lengths"
   ]
  },
  {
   "cell_type": "code",
   "execution_count": 19,
   "metadata": {},
   "outputs": [
    {
     "name": "stdout",
     "output_type": "stream",
     "text": [
      "Figure saved as: C:\\Users\\u300737\\Desktop\\PhD_UHH_WIMI/Work/Synthetic_AR_Paper//Manuscript/Paper_Plots/Fig04_Aircraft_Flight_Time.pdf\n"
     ]
    },
    {
     "data": {
      "image/png": "[encoded data removed]",
      "text/plain": [
       "<Figure size 576x432 with 1 Axes>"
      ]
     },
     "metadata": {
      "needs_background": "light"
     },
     "output_type": "display_data"
    }
   ],
   "source": [
    "matplotlib.rcParams.update({\"font.size\":16})\n",
    "bar_fig=plt.figure(figsize=(8,6))\n",
    "ax1=bar_fig.add_subplot(111)\n",
    "# create stacked bar chart for students DataFrame\n",
    "track_lengths.plot(ax=ax1,kind='bar', stacked=True, color=['crimson','lightgrey','indianred'],edgecolor=\"k\")\n",
    " \n",
    "# Add Title and Labels\n",
    "#plt.title('Intermediate Students Pass %')\n",
    "plt.xlabel('Events')\n",
    "plt.ylabel('Flight Duration (min)')\n",
    "sns.despine(offset=10)\n",
    "plt.ylim([0,200])\n",
    "plt.yticks([0,60,120,180])\n",
    "plt.xticks(rotation=45, ha='right')\n",
    "ax1.xaxis.set_tick_params(width=2,length=3)\n",
    "ax1.yaxis.set_tick_params(width=2,length=3)\n",
    "ax1.legend(ncol=3)\n",
    "plt.setp(ax1.spines.values(), linewidth=2)\n",
    "plot_path=overall_paper_path+\"/Manuscript/Paper_Plots/\"\n",
    "fig_name=\"Fig04_Aircraft_Flight_Time.pdf\"\n",
    "bar_fig.savefig(plot_path+fig_name,dpi=100,bbox_inches=\"tight\")\n",
    "print(\"Figure saved as:\",plot_path+fig_name)"
   ]
  },
  {
   "cell_type": "code",
   "execution_count": null,
   "metadata": {},
   "outputs": [],
   "source": []
  },
  {
   "cell_type": "code",
   "execution_count": null,
   "metadata": {},
   "outputs": [],
   "source": []
  },
  {
   "cell_type": "code",
   "execution_count": null,
   "metadata": {},
   "outputs": [],
   "source": []
  }
 ],
 "metadata": {
  "kernelspec": {
   "display_name": "Python 3",
   "language": "python",
   "name": "python3"
  }
 },
 "nbformat": 4,
 "nbformat_minor": 4
}
