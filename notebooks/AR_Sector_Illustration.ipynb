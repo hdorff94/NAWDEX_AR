{
 "cells": [
  {
   "cell_type": "markdown",
   "metadata": {},
   "source": [
    "# Illustration of AR sectors for definition"
   ]
  },
  {
   "cell_type": "code",
   "execution_count": 1,
   "metadata": {},
   "outputs": [],
   "source": [
    "import os\n",
    "import sys\n",
    "import warnings\n",
    "warnings.filterwarnings(\"ignore\")\n",
    "\n",
    "import numpy as np\n",
    "import pandas as pd\n",
    "import xarray as xr\n",
    "\n",
    "import matplotlib\n",
    "import matplotlib.pyplot as plt\n",
    "import seaborn as sns"
   ]
  },
  {
   "cell_type": "code",
   "execution_count": 2,
   "metadata": {},
   "outputs": [
    {
     "name": "stdout",
     "output_type": "stream",
     "text": [
      "C:\\Users\\u300737\\Desktop\\PhD_UHH_WIMI\\my_GIT\\Synthetic_Airborne_Arctic_ARs\\notebooks\n",
      "C:\\Users\\u300737\\Desktop\\PhD_UHH_WIMI\\my_GIT\\Synthetic_Airborne_Arctic_ARs\\notebooks/../../..//my_GIT/Synthetic_Airborne_Arctic_ARs/\n"
     ]
    }
   ],
   "source": [
    "# Change path to working script directory\n",
    "current_path=os.getcwd()\n",
    "print(current_path)\n",
    "major_path = current_path+\"/../../../\"\n",
    "working_path=major_path+\"/my_GIT/Synthetic_Airborne_Arctic_ARs/\"\n",
    "src_path=working_path+\"/src/\"\n",
    "cfg_path=working_path+\"/config/\"\n",
    "plt_path=working_path+\"/plotting/\"\n",
    "\n",
    "print(working_path)\n",
    "#os.chdir(working_path)\n",
    "sys.path.insert(1, os.path.join(sys.path[0], working_path))\n",
    "sys.path.insert(2,src_path)\n",
    "sys.path.insert(3,cfg_path)\n",
    "sys.path.insert(4,plt_path)"
   ]
  },
  {
   "cell_type": "code",
   "execution_count": 3,
   "metadata": {},
   "outputs": [],
   "source": [
    "import flightcampaign as Campaign\n",
    "import flightmapping# as RFmaps\n",
    "import flight_track_creator\n",
    "import data_config"
   ]
  },
  {
   "cell_type": "code",
   "execution_count": 4,
   "metadata": {},
   "outputs": [
    {
     "name": "stdout",
     "output_type": "stream",
     "text": [
      "C:\\Users\\u300737\\Desktop\\PhD_UHH_WIMI\\my_GIT\\Synthetic_Airborne_Arctic_ARs\\notebooks/../../..//Work/GIT_Repository/\n",
      "C:\\Users\\u300737\\Desktop\\PhD_UHH_WIMI\\my_GIT\\Synthetic_Airborne_Arctic_ARs\\notebooks/../../..//Work/GIT_Repository//data_config_file.ini\n",
      "Config-file C:\\Users\\u300737\\Desktop\\PhD_UHH_WIMI\\my_GIT\\Synthetic_Airborne_Arctic_ARs\\notebooks/../../..//Work/GIT_Repository//data_config_file.ini.ini  already exists\n"
     ]
    }
   ],
   "source": [
    "airborne_data_importer_path=major_path+\"/Work/GIT_Repository/\"\n",
    "print(airborne_data_importer_path)\n",
    "\n",
    "# Config File\n",
    "config_file=data_config.load_config_file(airborne_data_importer_path,\"data_config_file\")\n",
    "\n",
    "analyse_all_flights=False\n",
    "\n",
    "#\n",
    "flight_dates={\"North_Atlantic_Run\":\n",
    "              {\"SRF02\":\"20180224\",\n",
    "               \"SRF04\":\"20190319\",#},\n",
    "               \"SRF07\":\"20200416\",#},\n",
    "               \"SRF08\":\"20200419\"\n",
    "              },\n",
    "              \"Second_Synthetic_Study\":\n",
    "              {\"SRF02\":\"20110317\",\n",
    "               \"SRF03\":\"20110423\",\n",
    "               \"SRF08\":\"20150314\",\n",
    "               \"SRF09\":\"20160311\",\n",
    "               \"SRF12\":\"20180225\"\n",
    "               }}\n",
    "flight_tracks_dict={}\n",
    "campaigns=[*flight_dates.keys()]\n",
    "shifted_lat=0\n",
    "shifted_lon=0\n",
    "ar_of_day=\"SAR_internal\"\n",
    "\n",
    "campaign=\"Second_Synthetic_Study\"\n",
    "flight=\"SRF08\"#\"20150314\"\n",
    "#config_file[\"Data_Paths\"]"
   ]
  },
  {
   "cell_type": "markdown",
   "metadata": {},
   "source": [
    "### Flight Track\n"
   ]
  },
  {
   "cell_type": "code",
   "execution_count": 5,
   "metadata": {},
   "outputs": [
    {
     "name": "stdout",
     "output_type": "stream",
     "text": [
      "Overall directory of campaign work is:  C:\\Users\\u300737\\Desktop\\PhD_UHH_WIMI\\Work\\GIT_Repository/Second_Synthetic_Study/\n"
     ]
    }
   ],
   "source": [
    "import flight_track_creator\n",
    "na_run=Campaign.Second_Synthetic_Study(\n",
    "                             is_flight_campaign=True,\n",
    "                             major_path=config_file[\"Data_Paths\"][\"campaign_path\"],\n",
    "                             aircraft=\"HALO\",interested_flights=[flight],\n",
    "                             instruments=[\"radar\",\"radiometer\",\"sonde\"])               \n",
    "#na_run.specify_flights_of_interest(flight[0])\n",
    "#na_run.create_directory(directory_types=[\"data\"])\n",
    "cmpgn_cls=na_run\n",
    "\n",
    "Flight_Tracker=flight_track_creator.Flighttracker(na_run,flight,\n",
    "                                ar_of_day,track_type=\"internal\",\n",
    "                                shifted_lat=0,shifted_lon=0,\n",
    "                                load_save_instantan=False)\n",
    "\n",
    "halo_dict,campaign_path=Flight_Tracker.get_synthetic_flight_track(as_dict=True)        "
   ]
  },
  {
   "cell_type": "code",
   "execution_count": 6,
   "metadata": {},
   "outputs": [],
   "source": [
    "if not isinstance(halo_dict,pd.DataFrame):\n",
    "    halo_df,leg_df=Flight_Tracker.concat_track_dict_to_df()\n",
    "else:\n",
    "    halo_df=halo_dict.copy()"
   ]
  },
  {
   "cell_type": "markdown",
   "metadata": {},
   "source": [
    "### IVT Field "
   ]
  },
  {
   "cell_type": "code",
   "execution_count": null,
   "metadata": {
    "scrolled": true
   },
   "outputs": [
    {
     "name": "stdout",
     "output_type": "stream",
     "text": [
      "C:\\Users\\u300737\\Desktop\\PhD_UHH_WIMI\\Work\\GIT_Repository/Second_Synthetic_Study//data/CARRA/\n"
     ]
    }
   ],
   "source": [
    "import atmospheric_rivers as AR\n",
    "import gridonhalo as Grid_on_HALO\n",
    "from reanalysis import ERA5,CARRA\n",
    "carra_lvls_path=cmpgn_cls.campaign_path+\"/data/CARRA/\"\n",
    "print(carra_lvls_path)    \n",
    "carra=CARRA(for_flight_campaign=True,\n",
    "            campaign=campaign,research_flights=None,\n",
    "            carra_path=carra_lvls_path) \n",
    "        \n",
    "CARRA_on_HALO=Grid_on_HALO.CARRA_on_HALO(halo_df,carra_lvls_path,\n",
    "                True,campaign,config_file[\"Data_Paths\"][\"campaign_path\"],\n",
    "                [flight],flight_dates[campaign][flight],config_file,ar_of_day=ar_of_day,\n",
    "                synthetic_flight=True,\n",
    "                do_instantaneous=False)\n",
    "\n",
    "#IVT field\n",
    "CARRA_on_HALO.merge_all_files_for_given_flight()\n",
    "CARRA_on_HALO.calc_ivt_from_origin_carra_ds()\n",
    "# mean HALO time stamp is 17:44 so 18:00 is a good timestamp which represents iloc=2\n",
    "carra_ivt=CARRA_on_HALO.carra_ivt.isel(time=2)\n",
    "carra_ivt=CARRA_on_HALO.carra_ivt.isel(time=2)\n",
    "carra_ivt"
   ]
  },
  {
   "cell_type": "markdown",
   "metadata": {},
   "source": [
    "### IVT along HALO track\n"
   ]
  },
  {
   "cell_type": "code",
   "execution_count": null,
   "metadata": {},
   "outputs": [],
   "source": [
    "CARRA_on_HALO.load_or_calc_interpolated_hmp_data()\n",
    "halo_carra_hmp=CARRA_on_HALO.halo_carra_hmp \n",
    "halo_carra_hmp.index=pd.DatetimeIndex(halo_carra_hmp.index)\n",
    "halo_carra_hmp.name=\"CARRA\"\n",
    "halo_carra_hmp=cmpgn_cls.calc_distance_to_IVT_max(\n",
    "                        halo_df,\n",
    "                        halo_carra_hmp)\n",
    "halo_carra_hmp[\"highres_Interp_IWV\"]=halo_carra_hmp[\"Interp_IWV_clc\"].values\n",
    "halo_carra_hmp[\"highres_Interp_IVT\"]=halo_carra_hmp[\"Interp_IVT\"].values\n",
    "\n",
    "halo_carra_hmp_dict={}\n",
    "halo_carra_hmp_dict[flight]={}\n",
    "halo_carra_hmp_dict[flight][\"AR_internal\"]=halo_carra_hmp\n",
    "new_halo_dict={}\n",
    "new_halo_dict[flight]=halo_dict\n",
    "        "
   ]
  },
  {
   "cell_type": "code",
   "execution_count": null,
   "metadata": {
    "scrolled": true
   },
   "outputs": [],
   "source": [
    "from atmospheric_rivers import Atmospheric_Rivers\n",
    "AR_inflow,AR_outflow=Atmospheric_Rivers.locate_AR_cross_section_sectors(\n",
    "                                    new_halo_dict,halo_carra_hmp_dict,flight)\n",
    "# Two sondes per sector\n",
    "number_of_sondes=2\n",
    "sondes_selection={}\n",
    "for sector in [\"warm_sector\",\"core\",\"cold_sector\"]:\n",
    "    add_sonde=1\n",
    "    if sector==\"core\":\n",
    "        add_sonde=1\n",
    "    sondes_selection[\"ind_inflow_\"+sector]=np.linspace(0,AR_inflow[\"AR_inflow_\"+sector].shape[0]-1,\n",
    "                                                        num=number_of_sondes+add_sonde).astype(int)\n",
    "    sondes_selection[\"ind_outflow_\"+sector]=np.linspace(0,AR_outflow[\"AR_outflow_\"+sector].shape[0]-1,\n",
    "                                                         num=number_of_sondes+add_sonde).astype(int)\n",
    "    sondes_selection[\"time_inflow_\"+sector]=AR_inflow[\"AR_inflow_\"+sector].index[\\\n",
    "                                    sondes_selection[\"ind_inflow_\"+sector]]\n",
    "    sondes_selection[\"time_outflow_\"+sector]=AR_outflow[\"AR_outflow_\"+sector].index[\\\n",
    "                                    sondes_selection[\"ind_outflow_\"+sector]]\n",
    "    sondes_selection[\"pos_inflow_\"+sector]=AR_inflow[\"AR_inflow_\"+sector][\\\n",
    "                                            [\"Halo_Lat\",\"Halo_Lon\"]].loc[sondes_selection[\"time_inflow_\"+sector]]\n",
    "    sondes_selection[\"pos_outflow_\"+sector]=AR_outflow[\"AR_outflow_\"+sector][\\\n",
    "                                [\"Halo_Lat\",\"Halo_Lon\"]].loc[sondes_selection[\"time_outflow_\"+sector]]\n",
    "\n",
    "    sondes_selection[\"pos_all_\"+sector]=pd.concat([sondes_selection[\"pos_inflow_\"+sector],\n",
    "                                                   sondes_selection[\"pos_outflow_\"+sector]])\n",
    "\n",
    "#%% Loc and locate sondes for regression method\n",
    "            \n",
    "sondes_selection"
   ]
  },
  {
   "cell_type": "code",
   "execution_count": null,
   "metadata": {
    "scrolled": true
   },
   "outputs": [],
   "source": [
    "import matplotlib\n",
    "import matplotlib.pyplot as plt\n",
    "\n",
    "import cmasher as cmr\n",
    "import cartopy.crs as ccrs\n",
    "\n",
    "from matplotlib import gridspec\n",
    "from typhon.plots import styles\n",
    "from mpl_toolkits.axes_grid1.inset_locator import inset_axes\n",
    "\n",
    "set_font=14\n",
    "matplotlib.rcParams.update({'font.size':set_font})\n",
    "# Define the plot specifications for the given variables\n",
    "met_var_dict={}\n",
    "met_var_dict[\"ERA_name\"]    = {\"IWV\":\"tcwv\",\"IVT\":\"IVT\"}\n",
    "met_var_dict[\"colormap\"]    = {\"IWV\":\"density\",\"IVT\":\"ocean_r\"}\n",
    "met_var_dict[\"levels\"]      = {\"IWV\":np.linspace(10,50,51),\n",
    "                               \"IVT\":np.linspace(50,600,61)}\n",
    "met_var_dict[\"units\"]       = {\"IWV\":\"(kg/$\\mathrm{m}^2$)\",\n",
    "                               \"IVT\":\"(kg$\\mathrm{m}^{-1}\\mathrm{s}^{-1}$)\"}\n",
    "        \n",
    "#self.carra_ivt[\"longitude\"]=self.carra_ivt[\"longitude\"].where(\n",
    "#    self.carra_ivt[\"longitude\"]<180,self.carra_ivt[\"longitude\"]-360)\n",
    "\n",
    "lat2=np.array(carra_ivt[\"latitude\"][:])\n",
    "lon2=np.array(carra_ivt[\"longitude\"][:])\n",
    "lower_lon=-24\n",
    "lower_lat=71\n",
    "upper_lon=8\n",
    "upper_lat=75\n",
    "# Sector specification\n",
    "#TIVT_inflow,TIVT_outflow=Atmospheric_Rivers.calc_TIVT_of_sectors(\n",
    "#                                    AR_inflow,AR_outflow,grid_name)\n",
    "            \n",
    "   \n",
    "with plt.style.context(styles(\"typhon\")):\n",
    "                \n",
    "    map_fig=plt.figure(figsize=(9,16))\n",
    "    #gs=gridspec.GridSpec(1,1,width_ratios=[1,1])\n",
    "    ax=plt.subplot(projection=ccrs.AzimuthalEquidistant(\n",
    "                                        central_longitude=-7.0,central_latitude=72))\n",
    "    ax.coastlines(resolution=\"50m\")\n",
    "    ax.gridlines()\n",
    "    carra_ivt[\"IVT\"]=carra_ivt[\"IVT\"].where(carra_ivt[\"IVT\"]>100)\n",
    "    C1=plt.contourf(lon2,lat2,carra_ivt[\"IVT\"].values,\n",
    "                            transform=ccrs.PlateCarree(),cmap=plt.get_cmap(\"ocean_r\"),\n",
    "                    extend=\"both\",levels=np.linspace(50,600,101))\n",
    "    import matplotlib.patheffects as pe\n",
    "    \n",
    "    plt.plot(halo_df[\"longitude\"],halo_df[\"latitude\"],color=\"linen\",\n",
    "             lw=5,path_effects=[pe.Stroke(linewidth=7, foreground='k'), pe.Normal()],\n",
    "             transform=ccrs.PlateCarree())\n",
    "    plt.scatter(sondes_selection[\"pos_all_cold_sector\"][\"Halo_Lon\"],\n",
    "                sondes_selection[\"pos_all_cold_sector\"][\"Halo_Lat\"],\n",
    "                marker=\"v\",s=300,color=\"lightgrey\",edgecolor=\"k\",transform=ccrs.PlateCarree(),zorder=4)\n",
    "    plt.scatter(sondes_selection[\"pos_all_warm_sector\"][\"Halo_Lon\"],\n",
    "                sondes_selection[\"pos_all_warm_sector\"][\"Halo_Lat\"],\n",
    "                marker=\"v\",s=300,color=\"lightgrey\",edgecolor=\"k\",transform=ccrs.PlateCarree(),zorder=4)\n",
    "    plt.scatter(sondes_selection[\"pos_all_core\"][\"Halo_Lon\"],\n",
    "                sondes_selection[\"pos_all_core\"][\"Halo_Lat\"],\n",
    "                marker=\"v\",s=300,color=\"lightgrey\",edgecolor=\"k\",transform=ccrs.PlateCarree(),zorder=4)\n",
    "    # Warm sector rectangle\n",
    "    plt.plot([sondes_selection[\"pos_all_warm_sector\"][\"Halo_Lon\"][0],\n",
    "              sondes_selection[\"pos_all_warm_sector\"][\"Halo_Lon\"][2],\n",
    "              sondes_selection[\"pos_all_warm_sector\"][\"Halo_Lon\"][6],\n",
    "              sondes_selection[\"pos_all_warm_sector\"][\"Halo_Lon\"][3],\n",
    "              sondes_selection[\"pos_all_warm_sector\"][\"Halo_Lon\"][0]],\n",
    "             [sondes_selection[\"pos_all_warm_sector\"][\"Halo_Lat\"][0],\n",
    "              sondes_selection[\"pos_all_warm_sector\"][\"Halo_Lat\"][2],\n",
    "              sondes_selection[\"pos_all_warm_sector\"][\"Halo_Lat\"][6],\n",
    "              sondes_selection[\"pos_all_warm_sector\"][\"Halo_Lat\"][3],\n",
    "              sondes_selection[\"pos_all_warm_sector\"][\"Halo_Lat\"][0]],\n",
    "             color=\"orange\",lw=2,ls=\"--\",zorder=5,\n",
    "             transform=ccrs.PlateCarree())\n",
    "    # Warm sector rectangle\n",
    "    plt.plot([sondes_selection[\"pos_all_cold_sector\"][\"Halo_Lon\"][0],\n",
    "              sondes_selection[\"pos_all_cold_sector\"][\"Halo_Lon\"][2],\n",
    "              sondes_selection[\"pos_all_cold_sector\"][\"Halo_Lon\"][5],\n",
    "              sondes_selection[\"pos_all_cold_sector\"][\"Halo_Lon\"][3],\n",
    "              sondes_selection[\"pos_all_cold_sector\"][\"Halo_Lon\"][0]],\n",
    "             [sondes_selection[\"pos_all_cold_sector\"][\"Halo_Lat\"][0],\n",
    "              sondes_selection[\"pos_all_cold_sector\"][\"Halo_Lat\"][2],\n",
    "              sondes_selection[\"pos_all_cold_sector\"][\"Halo_Lat\"][5],\n",
    "              sondes_selection[\"pos_all_cold_sector\"][\"Halo_Lat\"][3],\n",
    "              sondes_selection[\"pos_all_cold_sector\"][\"Halo_Lat\"][0]],\n",
    "             color=\"blue\",lw=2,ls=\"--\",zorder=3,\n",
    "             transform=ccrs.PlateCarree())\n",
    "    plt.plot([sondes_selection[\"pos_all_core\"][\"Halo_Lon\"][0],\n",
    "              sondes_selection[\"pos_all_core\"][\"Halo_Lon\"][2]],\n",
    "              [sondes_selection[\"pos_all_core\"][\"Halo_Lat\"][0],\n",
    "              sondes_selection[\"pos_all_core\"][\"Halo_Lat\"][2]],\n",
    "              color=\"k\",lw=2,ls=\"--\",zorder=3,transform=ccrs.PlateCarree())\n",
    "    plt.plot([sondes_selection[\"pos_all_core\"][\"Halo_Lon\"][3],\n",
    "              sondes_selection[\"pos_all_core\"][\"Halo_Lon\"][5]],\n",
    "              [sondes_selection[\"pos_all_core\"][\"Halo_Lat\"][3],\n",
    "              sondes_selection[\"pos_all_core\"][\"Halo_Lat\"][5]],\n",
    "              color=\"k\",lw=2,ls=\"--\",zorder=3,transform=ccrs.PlateCarree())\n",
    "    plt.text(-1.0,73.42,\"Warm\",fontsize=12,color=\"red\",\n",
    "             bbox=dict(facecolor='lightgrey',edgecolor=\"k\",\n",
    "                  boxstyle=\"round\",alpha=0.8),\n",
    "             transform=ccrs.PlateCarree())\n",
    "    plt.text(-6.8,73.5,\"Core\",fontsize=12,color=\"green\",\n",
    "             bbox=dict(facecolor='lightgrey',edgecolor=\"k\",\n",
    "                  boxstyle=\"round\",alpha=0.8),\n",
    "             transform=ccrs.PlateCarree())\n",
    "    plt.text(-14.7,73.4,\"Cold\",fontsize=12,color=\"blue\",\n",
    "             bbox=dict(facecolor='lightgrey',edgecolor=\"k\",\n",
    "                  boxstyle=\"round\",alpha=0.8),\n",
    "             transform=ccrs.PlateCarree())\n",
    "\n",
    "    cb=plt.colorbar(C1,ax=ax,shrink=0.2)\n",
    "    cb.set_label(\"IVT ($\\mathrm{kgm}^{-1}\\mathrm{s}^{-1}$)\",fontsize=14)\n",
    "    cb.set_ticks([50,200,400,600])\n",
    "    ax.set_extent([lower_lon,upper_lon,lower_lat,upper_lat])\n",
    "    ## Add quiver\n",
    "    step=45\n",
    "    quiver_lon=np.array(carra_ivt[\"longitude\"][::step,::step])\n",
    "    quiver_lat=np.array(carra_ivt[\"latitude\"][::step,::step])\n",
    "    u=np.array(carra_ivt[\"IVT_u\"][::step,::step])\n",
    "    v=np.array(carra_ivt[\"IVT_v\"][::step,::step])\n",
    "    #u[u<50]=np.nan\n",
    "    v[v<50]=np.nan\n",
    "    quiver=ax.quiver(quiver_lon,quiver_lat,u,v,color=\"white\",\n",
    "                    edgecolor=\"k\",linewidth=1,scale=600,\n",
    "                    scale_units=\"inches\",pivot=\"mid\",\n",
    "                    width=0.008,transform=ccrs.PlateCarree())\n",
    "    #os.chdir(os.getcwd()+\"/../Synthetic_AR_Paper/Manuscript/Paper_Plots/\")\n",
    "    #print(os.getcwd())\n",
    "    #sys.exit()\n",
    "    plot_path=major_path+\"/Work/Synthetic_AR_Paper/Manuscript/Paper_Plots/\"\n",
    "    #print(\"Figure is saved as: \", plot_path)\n",
    "    fig_name=\"fig04_AR_sector_illustration_20150314.png\"\n",
    "    map_fig.savefig(plot_path+fig_name,dpi=600,bbox_inches=\"tight\")\n",
    "    print(\"Figure saved as:\",plot_path+fig_name)"
   ]
  },
  {
   "cell_type": "code",
   "execution_count": null,
   "metadata": {},
   "outputs": [],
   "source": []
  },
  {
   "cell_type": "code",
   "execution_count": null,
   "metadata": {},
   "outputs": [],
   "source": []
  },
  {
   "cell_type": "code",
   "execution_count": null,
   "metadata": {},
   "outputs": [],
   "source": []
  }
 ],
 "metadata": {
  "kernelspec": {
   "display_name": "Python 3",
   "language": "python",
   "name": "python3"
  },
  "language_info": {
   "codemirror_mode": {
    "name": "ipython",
    "version": 3
   },
   "file_extension": ".py",
   "mimetype": "text/x-python",
   "name": "python",
   "nbconvert_exporter": "python",
   "pygments_lexer": "ipython3",
   "version": "3.8.3"
  }
 },
 "nbformat": 4,
 "nbformat_minor": 4
}
