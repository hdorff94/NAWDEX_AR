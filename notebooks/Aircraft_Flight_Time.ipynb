{
 "cells": [
  {
   "cell_type": "markdown",
   "metadata": {},
   "source": [
    "# Aircraft Flight Time Barplot"
   ]
  },
  {
   "cell_type": "markdown",
   "metadata": {},
   "source": [
    "#### This notebook loops over all synthetic flights and illustrates their length for assumed aircraft performance"
   ]
  },
  {
   "cell_type": "code",
   "execution_count": 1,
   "metadata": {},
   "outputs": [],
   "source": [
    "import os\n",
    "import sys\n",
    "import warnings\n",
    "warnings.filterwarnings(\"ignore\")\n",
    "\n",
    "import numpy as np\n",
    "import pandas as pd\n",
    "import xarray as xr\n",
    "\n",
    "import matplotlib\n",
    "import matplotlib.pyplot as plt\n",
    "import seaborn as sns"
   ]
  },
  {
   "cell_type": "code",
   "execution_count": 2,
   "metadata": {},
   "outputs": [
    {
     "name": "stdout",
     "output_type": "stream",
     "text": [
      "C:\\Users\\u300737\\Desktop\\PhD_UHH_WIMI\\Work\\Synthetic_AR_Paper\\Jupyter_Notebooks\n",
      "C:\\Users\\u300737\\Desktop\\PhD_UHH_WIMI/my_GIT/Synthetic_Airborne_Arctic_ARs/\n"
     ]
    }
   ],
   "source": [
    "# Change path to working script directory\n",
    "current_path=os.getcwd()\n",
    "print(current_path)\n",
    "major_path = os.path.abspath(\"../../../\")\n",
    "major_airborne_data_path=current_path+\"/../../GIT_Repository/\"\n",
    "working_path=major_path+\"/my_GIT/Synthetic_Airborne_Arctic_ARs/\"\n",
    "src_path=working_path+\"/src/\"\n",
    "cfg_path=working_path+\"/config/\"\n",
    "print(working_path)\n",
    "os.chdir(working_path)\n",
    "sys.path.insert(1, os.path.join(sys.path[0], working_path))\n",
    "sys.path.insert(2,src_path)\n",
    "sys.path.insert(3,cfg_path)\n"
   ]
  },
  {
   "cell_type": "code",
   "execution_count": 3,
   "metadata": {},
   "outputs": [],
   "source": [
    "import flightcampaign as Campaign\n",
    "\n",
    "import flight_track_creator\n",
    "import data_config"
   ]
  },
  {
   "cell_type": "code",
   "execution_count": 4,
   "metadata": {},
   "outputs": [
    {
     "name": "stdout",
     "output_type": "stream",
     "text": [
      "C:\\Users\\u300737\\Desktop\\PhD_UHH_WIMI\\Work\\Synthetic_AR_Paper\\Jupyter_Notebooks/../../GIT_Repository//data_config_file.ini\n",
      "Config-file C:\\Users\\u300737\\Desktop\\PhD_UHH_WIMI\\Work\\Synthetic_AR_Paper\\Jupyter_Notebooks/../../GIT_Repository//data_config_file.ini.ini  already exists\n"
     ]
    }
   ],
   "source": [
    "# Config File\n",
    "config_file=data_config.load_config_file(major_airborne_data_path,\"data_config_file\")\n",
    "\n",
    "analyse_all_flights=True\n",
    "\n",
    "#\n",
    "flight_dates={\"North_Atlantic_Run\":\n",
    "              {\"SRF02\":\"20180224\",\n",
    "               \"SRF04\":\"20190319\",#},\n",
    "               \"SRF07\":\"20200416\",#},\n",
    "               \"SRF08\":\"20200419\"\n",
    "              },\n",
    "              \"Second_Synthetic_Study\":\n",
    "              {\"SRF02\":\"20110317\",\n",
    "               \"SRF03\":\"20110423\",\n",
    "               \"SRF08\":\"20150314\",\n",
    "               \"SRF09\":\"20160311\",\n",
    "               \"SRF12\":\"20180225\"\n",
    "               }}\n",
    "flight_tracks_dict={}\n",
    "campaigns=[*flight_dates.keys()]\n",
    "shifted_lat=0\n",
    "shifted_lon=0\n",
    "ar_of_day=\"AR_internal\"\n"
   ]
  },
  {
   "cell_type": "code",
   "execution_count": 5,
   "metadata": {},
   "outputs": [],
   "source": [
    "campaign=campaigns[0]\n",
    "flight=[*flight_dates[campaign]][0]"
   ]
  },
  {
   "cell_type": "code",
   "execution_count": 6,
   "metadata": {},
   "outputs": [
    {
     "name": "stdout",
     "output_type": "stream",
     "text": [
      "Analyse given flight:  SRF02\n",
      "Overall directory of campaign work is:  C:\\Users\\u300737\\Desktop\\PhD_UHH_WIMI\\Work\\GIT_Repository/NA_February_Run/\n",
      "Entries:  dict_keys(['data']) have added to or changed in the config file\n",
      "Analyse given flight:  SRF04\n",
      "Overall directory of campaign work is:  C:\\Users\\u300737\\Desktop\\PhD_UHH_WIMI\\Work\\GIT_Repository/NA_February_Run/\n",
      "Entries:  dict_keys(['data']) have added to or changed in the config file\n",
      "Analyse given flight:  SRF07\n",
      "Overall directory of campaign work is:  C:\\Users\\u300737\\Desktop\\PhD_UHH_WIMI\\Work\\GIT_Repository/NA_February_Run/\n",
      "Entries:  dict_keys(['data']) have added to or changed in the config file\n",
      "Analyse given flight:  SRF08\n",
      "Overall directory of campaign work is:  C:\\Users\\u300737\\Desktop\\PhD_UHH_WIMI\\Work\\GIT_Repository/NA_February_Run/\n",
      "Entries:  dict_keys(['data']) have added to or changed in the config file\n",
      "Overall directory of campaign work is:  C:\\Users\\u300737\\Desktop\\PhD_UHH_WIMI\\Work\\GIT_Repository/Second_Synthetic_Study/\n",
      "Entries:  dict_keys(['data']) have added to or changed in the config file\n",
      "Overall directory of campaign work is:  C:\\Users\\u300737\\Desktop\\PhD_UHH_WIMI\\Work\\GIT_Repository/Second_Synthetic_Study/\n",
      "Entries:  dict_keys(['data']) have added to or changed in the config file\n",
      "Overall directory of campaign work is:  C:\\Users\\u300737\\Desktop\\PhD_UHH_WIMI\\Work\\GIT_Repository/Second_Synthetic_Study/\n",
      "Entries:  dict_keys(['data']) have added to or changed in the config file\n",
      "Overall directory of campaign work is:  C:\\Users\\u300737\\Desktop\\PhD_UHH_WIMI\\Work\\GIT_Repository/Second_Synthetic_Study/\n",
      "Entries:  dict_keys(['data']) have added to or changed in the config file\n",
      "Overall directory of campaign work is:  C:\\Users\\u300737\\Desktop\\PhD_UHH_WIMI\\Work\\GIT_Repository/Second_Synthetic_Study/\n",
      "Entries:  dict_keys(['data']) have added to or changed in the config file\n"
     ]
    }
   ],
   "source": [
    "for campaign in campaigns:\n",
    "    for flight in flight_dates[campaign]:\n",
    "        if campaign==\"North_Atlantic_Run\":\n",
    "            print(\"Analyse given flight: \",flight)\n",
    "            cmpgn_cls=Campaign.North_Atlantic_February_Run(\n",
    "                    interested_flights=[flight],\n",
    "                        is_flight_campaign=True,\n",
    "                        major_path=config_file[\"Data_Paths\"][\"campaign_path\"],\n",
    "                        aircraft=\"HALO\",instruments=[])\n",
    "        \n",
    "            cmpgn_cls.specify_flights_of_interest(flight)\n",
    "            cmpgn_cls.create_directory(directory_types=[\"data\"])\n",
    "        elif campaign==\"Second_Synthetic_Study\":\n",
    "            cmpgn_cls=Campaign.Second_Synthetic_Study(\n",
    "                    interested_flights=[flight],\n",
    "                        is_flight_campaign=True,\n",
    "                        major_path=config_file[\"Data_Paths\"][\"campaign_path\"],\n",
    "                        aircraft=\"HALO\",instruments=[])\n",
    "        \n",
    "            cmpgn_cls.specify_flights_of_interest(flight)\n",
    "            cmpgn_cls.create_directory(directory_types=[\"data\"])\n",
    "    \n",
    "        if not shifted_lat==0:\n",
    "            ar_of_day=ar_of_day+\"_\"+str(shifted_lat)\n",
    "            track_type=\"shifted\"\n",
    "        else:\n",
    "            track_type=\"internal\"\n",
    "        Tracker=flight_track_creator.Flighttracker(cmpgn_cls,flight,ar_of_day,\n",
    "                          shifted_lat=shifted_lat,\n",
    "                          shifted_lon=shifted_lon,\n",
    "                          track_type=track_type)\n",
    "        aircraft_df,campaign_path=Tracker.load_existing_flight_track()\n",
    "        flight_tracks_dict[flight_dates[campaign][flight]]=aircraft_df\n"
   ]
  },
  {
   "cell_type": "code",
   "execution_count": 7,
   "metadata": {},
   "outputs": [],
   "source": [
    "track_lengths=pd.DataFrame(data=np.nan,index=[*flight_tracks_dict.keys()],columns=[\"Inflow\",\"Internal\",\"Outflow\"])\n",
    "for flight in flight_tracks_dict.keys():\n",
    "    loop_aircraft_df=flight_tracks_dict[flight]\n",
    "    track_length=[loop_aircraft_df[loop_aircraft_df[\"leg_type\"]==\"inflow\"].shape[0]/60,\n",
    "              loop_aircraft_df[loop_aircraft_df[\"leg_type\"]==\"internal\"].shape[0]/60,\n",
    "              loop_aircraft_df[loop_aircraft_df[\"leg_type\"]==\"outflow\"].shape[0]/60]\n",
    "    track_lengths.loc[flight]=track_length"
   ]
  },
  {
   "cell_type": "code",
   "execution_count": 8,
   "metadata": {},
   "outputs": [],
   "source": [
    "track_lengths=track_lengths.sort_index()"
   ]
  },
  {
   "cell_type": "code",
   "execution_count": 9,
   "metadata": {},
   "outputs": [
    {
     "data": {
      "text/html": [
       "<div>\n",
       "<style scoped>\n",
       "    .dataframe tbody tr th:only-of-type {\n",
       "        vertical-align: middle;\n",
       "    }\n",
       "\n",
       "    .dataframe tbody tr th {\n",
       "        vertical-align: top;\n",
       "    }\n",
       "\n",
       "    .dataframe thead th {\n",
       "        text-align: right;\n",
       "    }\n",
       "</style>\n",
       "<table border=\"1\" class=\"dataframe\">\n",
       "  <thead>\n",
       "    <tr style=\"text-align: right;\">\n",
       "      <th></th>\n",
       "      <th>Inflow</th>\n",
       "      <th>Internal</th>\n",
       "      <th>Outflow</th>\n",
       "    </tr>\n",
       "  </thead>\n",
       "  <tbody>\n",
       "    <tr>\n",
       "      <th>20110317</th>\n",
       "      <td>60.016667</td>\n",
       "      <td>66.933333</td>\n",
       "      <td>60.016667</td>\n",
       "    </tr>\n",
       "    <tr>\n",
       "      <th>20110423</th>\n",
       "      <td>52.016667</td>\n",
       "      <td>51.133333</td>\n",
       "      <td>47.016667</td>\n",
       "    </tr>\n",
       "    <tr>\n",
       "      <th>20150314</th>\n",
       "      <td>55.016667</td>\n",
       "      <td>54.783333</td>\n",
       "      <td>45.016667</td>\n",
       "    </tr>\n",
       "    <tr>\n",
       "      <th>20160311</th>\n",
       "      <td>45.016667</td>\n",
       "      <td>52.400000</td>\n",
       "      <td>39.016667</td>\n",
       "    </tr>\n",
       "    <tr>\n",
       "      <th>20180224</th>\n",
       "      <td>50.016667</td>\n",
       "      <td>57.550000</td>\n",
       "      <td>50.016667</td>\n",
       "    </tr>\n",
       "    <tr>\n",
       "      <th>20180225</th>\n",
       "      <td>39.016667</td>\n",
       "      <td>45.583333</td>\n",
       "      <td>39.016667</td>\n",
       "    </tr>\n",
       "    <tr>\n",
       "      <th>20190319</th>\n",
       "      <td>50.016667</td>\n",
       "      <td>48.383333</td>\n",
       "      <td>50.016667</td>\n",
       "    </tr>\n",
       "    <tr>\n",
       "      <th>20200416</th>\n",
       "      <td>45.016667</td>\n",
       "      <td>48.616667</td>\n",
       "      <td>45.016667</td>\n",
       "    </tr>\n",
       "    <tr>\n",
       "      <th>20200419</th>\n",
       "      <td>52.016667</td>\n",
       "      <td>51.650000</td>\n",
       "      <td>52.016667</td>\n",
       "    </tr>\n",
       "  </tbody>\n",
       "</table>\n",
       "</div>"
      ],
      "text/plain": [
       "             Inflow   Internal    Outflow\n",
       "20110317  60.016667  66.933333  60.016667\n",
       "20110423  52.016667  51.133333  47.016667\n",
       "20150314  55.016667  54.783333  45.016667\n",
       "20160311  45.016667  52.400000  39.016667\n",
       "20180224  50.016667  57.550000  50.016667\n",
       "20180225  39.016667  45.583333  39.016667\n",
       "20190319  50.016667  48.383333  50.016667\n",
       "20200416  45.016667  48.616667  45.016667\n",
       "20200419  52.016667  51.650000  52.016667"
      ]
     },
     "execution_count": 9,
     "metadata": {},
     "output_type": "execute_result"
    }
   ],
   "source": [
    "track_lengths"
   ]
  },
  {
   "cell_type": "code",
   "execution_count": 11,
   "metadata": {},
   "outputs": [
    {
     "name": "stdout",
     "output_type": "stream",
     "text": [
      "Figure saved as: C:\\Users\\u300737\\Desktop\\PhD_UHH_WIMI\\Work\\Synthetic_AR_Paper\\Jupyter_Notebooks/..//Manuscript/Paper_Plots/Fig04_Aircraft_Flight_Time.pdf\n"
     ]
    },
    {
     "data": {
      "image/png": "[encoded data removed]",
      "text/plain": [
       "<Figure size 576x432 with 1 Axes>"
      ]
     },
     "metadata": {
      "needs_background": "light"
     },
     "output_type": "display_data"
    }
   ],
   "source": [
    "matplotlib.rcParams.update({\"font.size\":16})\n",
    "overall_paper_path=current_path+\"/../\"\n",
    "bar_fig=plt.figure(figsize=(8,6))\n",
    "ax1=bar_fig.add_subplot(111)\n",
    "# create stacked bar chart for students DataFrame\n",
    "track_lengths.plot(ax=ax1,kind='bar', stacked=True, color=['navy','lightgrey','royalblue'],edgecolor=\"k\")\n",
    " \n",
    "# Add Title and Labels\n",
    "#plt.title('Intermediate Students Pass %')\n",
    "plt.xlabel('Flights')\n",
    "plt.ylabel('Flight Duration (min)')\n",
    "sns.despine(offset=10)\n",
    "plt.ylim([0,200])\n",
    "plt.yticks([0,60,120,180])\n",
    "plt.xticks(rotation=45, ha='right')\n",
    "ax1.xaxis.set_tick_params(width=2,length=3)\n",
    "ax1.yaxis.set_tick_params(width=2,length=3)\n",
    "ax1.legend(ncol=3)\n",
    "plt.setp(ax1.spines.values(), linewidth=2)\n",
    "plot_path=overall_paper_path+\"/Manuscript/Paper_Plots/\"\n",
    "fig_name=\"Fig04_Aircraft_Flight_Time.pdf\"\n",
    "bar_fig.savefig(plot_path+fig_name,dpi=100,bbox_inches=\"tight\")\n",
    "print(\"Figure saved as:\",plot_path+fig_name)"
   ]
  },
  {
   "cell_type": "code",
   "execution_count": null,
   "metadata": {},
   "outputs": [],
   "source": []
  }
 ],
 "metadata": {
  "kernelspec": {
   "display_name": "Python 3",
   "language": "python",
   "name": "python3"
  },
  "language_info": {
   "codemirror_mode": {
    "name": "ipython",
    "version": 3
   },
   "file_extension": ".py",
   "mimetype": "text/x-python",
   "name": "python",
   "nbconvert_exporter": "python",
   "pygments_lexer": "ipython3",
   "version": "3.8.3"
  }
 },
 "nbformat": 4,
 "nbformat_minor": 4
}
